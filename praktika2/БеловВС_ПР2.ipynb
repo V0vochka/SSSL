{
  "nbformat": 4,
  "nbformat_minor": 0,
  "metadata": {
    "colab": {
      "provenance": []
    },
    "kernelspec": {
      "name": "python3",
      "display_name": "Python 3"
    },
    "language_info": {
      "name": "python"
    }
  },
  "cells": [
    {
      "cell_type": "markdown",
      "source": [
        "**Отчёт по практической работе № 2**\n",
        "по дисциплине «Система для сбора событий и логов»\n",
        "\n",
        "Тема: «Анализ логов»\n",
        "\n",
        "Номер варианта = 6 mod 16 + 1 = 7 HealthApp\n",
        "\n",
        "Выполнил студент группы ББМО-01-23 Белов Владимир Станиславович"
      ],
      "metadata": {
        "id": "wSeyK0TWcxOB"
      }
    },
    {
      "cell_type": "code",
      "execution_count": 1,
      "metadata": {
        "colab": {
          "base_uri": "https://localhost:8080/"
        },
        "id": "oONtZXsNbNXd",
        "outputId": "d334527f-5060-42a3-cecb-4d951ce79e8b"
      },
      "outputs": [
        {
          "output_type": "stream",
          "name": "stdout",
          "text": [
            "Cloning into 'loghub'...\n",
            "remote: Enumerating objects: 575, done.\u001b[K\n",
            "remote: Counting objects: 100% (174/174), done.\u001b[K\n",
            "remote: Compressing objects: 100% (41/41), done.\u001b[K\n",
            "remote: Total 575 (delta 146), reused 136 (delta 133), pack-reused 401 (from 1)\u001b[K\n",
            "Receiving objects: 100% (575/575), 7.27 MiB | 13.87 MiB/s, done.\n",
            "Resolving deltas: 100% (267/267), done.\n"
          ]
        }
      ],
      "source": [
        "# Клонирование репозитория с логами\n",
        "import os.path\n",
        "\n",
        "if not os.path.isdir(\"./loghub/\"):\n",
        "    !git clone https://github.com/logpai/loghub"
      ]
    },
    {
      "cell_type": "markdown",
      "source": [
        "Пример лога, который нужно распарсить:\n",
        "\n",
        "*20171223-22:15:29:633|Step_StandReportReceiver|30002312|onReceive action: android.intent.action.SCREEN_ON*\n",
        "\n",
        "Поля лога:\n",
        "\n",
        "Символ \"|\" (Pipe) - разделитель\n",
        "- 20171223-22:15:29:633 - Time\n",
        "- Step_StandReportReceiver - Component\n",
        "- 30002312 - Pid\n",
        "- onReceive action: android.intent.action.SCREEN_ON - Content"
      ],
      "metadata": {
        "id": "_biFYto4fFDv"
      }
    },
    {
      "cell_type": "code",
      "source": [
        "import re\n",
        "\n",
        "pattern = re.compile(r'(\\d{8}-\\d{2}:\\d{2}:\\d{2}:\\d{3})\\|([^|]+)\\|(\\d+)\\|(.*?)$')"
      ],
      "metadata": {
        "id": "6_LHfY2dfeyh"
      },
      "execution_count": 2,
      "outputs": []
    },
    {
      "cell_type": "markdown",
      "source": [
        "Создадим базу данных"
      ],
      "metadata": {
        "id": "0_qZmSSbfgIc"
      }
    },
    {
      "cell_type": "code",
      "source": [
        "if not os.path.isdir(\"./db/\"):\n",
        "  os.makedirs(\"./db/\")\n",
        "\n",
        "import sqlite3\n",
        "\n",
        "db_path = './db/log-analysis.db'\n",
        "\n",
        "connection = sqlite3.connect(db_path)\n",
        "\n",
        "cursor = connection.cursor()\n",
        "\n",
        "cursor.execute(\"DROP TABLE IF EXISTS LogTable\")\n",
        "\n",
        "cursor.execute(\"CREATE TABLE LogTable (id INTEGER PRIMARY KEY AUTOINCREMENT,\\\n",
        "              TimeStamp TIMESTAMP,Component VARCHAR(255),Pid INT,Content VARCHAR(255))\")\n",
        "\n",
        "connection.commit()\n",
        "\n",
        "cursor.close()\n",
        "\n",
        "connection.close()"
      ],
      "metadata": {
        "id": "8ZiGjbsmfloR"
      },
      "execution_count": 3,
      "outputs": []
    },
    {
      "cell_type": "markdown",
      "source": [
        "Проведем парсинг логов и сохраним в БД"
      ],
      "metadata": {
        "id": "FPWPCyGzfpOc"
      }
    },
    {
      "cell_type": "code",
      "source": [
        "connection = sqlite3.connect(db_path)\n",
        "cursor = connection.cursor()\n",
        "\n",
        "cursor.execute(\"DELETE FROM LogTable\")\n",
        "\n",
        "with open('./loghub/HealthApp/HealthApp_2k.log', 'r', encoding='utf-8') as log_file:\n",
        "    for line in log_file:\n",
        "        log_match = pattern.match(line)\n",
        "        if log_match:\n",
        "            timestamp = log_match.group(1)\n",
        "            component = log_match.group(2)\n",
        "            pid = int(log_match.group(3))\n",
        "            content = log_match.group(4)\n",
        "            values = (timestamp, component, pid, content)\n",
        "            sql = \"INSERT INTO LogTable (TimeStamp, Component, Pid, Content) VALUES (?, ?, ?, ?)\"\n",
        "            cursor.execute(sql, values)\n",
        "\n",
        "connection.commit()\n",
        "cursor.close()\n",
        "connection.close()"
      ],
      "metadata": {
        "id": "44yVnrU1fxVx"
      },
      "execution_count": 4,
      "outputs": []
    },
    {
      "cell_type": "markdown",
      "source": [
        "Выведем записи БД"
      ],
      "metadata": {
        "id": "VQzpLmLqjX0v"
      }
    },
    {
      "cell_type": "code",
      "source": [
        "import pandas as pd\n",
        "\n",
        "connection = sqlite3.connect(db_path)\n",
        "cursor = connection.cursor()\n",
        "\n",
        "cursor.execute(\"SELECT * FROM LogTable\")\n",
        "rows = cursor.fetchall()\n",
        "\n",
        "cursor.close()\n",
        "connection.close()\n",
        "\n",
        "log_df = pd.DataFrame(rows, columns=(\"id\", \"TimeStamp\",\"Component\", \"Pid\", \"Content\"))\n",
        "log_df"
      ],
      "metadata": {
        "colab": {
          "base_uri": "https://localhost:8080/",
          "height": 424
        },
        "id": "8gU9YGU-jVu-",
        "outputId": "5cb1f5f1-0bd6-4583-f7bf-48c76521f7c2"
      },
      "execution_count": 40,
      "outputs": [
        {
          "output_type": "execute_result",
          "data": {
            "text/plain": [
              "        id              TimeStamp                 Component       Pid  \\\n",
              "0        1  20171223-22:15:29:606                  Step_LSC  30002312   \n",
              "1        2  20171223-22:15:29:615                  Step_LSC  30002312   \n",
              "2        3  20171223-22:15:29:633  Step_StandReportReceiver  30002312   \n",
              "3        4  20171223-22:15:29:635                  Step_LSC  30002312   \n",
              "4        5  20171223-22:15:29:635     Step_StandStepCounter  30002312   \n",
              "...    ...                    ...                       ...       ...   \n",
              "1363  1364  20171223-23:57:42:147                  Step_LSC  30002312   \n",
              "1364  1365  20171223-23:57:42:443              Step_SPUtils  30002312   \n",
              "1365  1366  20171223-23:57:42:444              Step_SPUtils  30002312   \n",
              "1366  1367  20171223-23:57:42:464               Step_ExtSDM  30002312   \n",
              "1367  1368  20171223-23:57:42:470               Step_ExtSDM  30002312   \n",
              "\n",
              "                                                Content  \n",
              "0                               onStandStepChanged 3579  \n",
              "1                         onExtend:1514038530000 14 0 4  \n",
              "2     onReceive action: android.intent.action.SCREEN_ON  \n",
              "3     processHandleBroadcastAction action:android.in...  \n",
              "4                                     flush sensor data  \n",
              "...                                                 ...  \n",
              "1363                       onExtend:1514044662000 0 0 0  \n",
              "1364   getTodayTotalDetailSteps = 1514044560000##721...  \n",
              "1365  setTodayTotalDetailSteps=1514044560000##7214##...  \n",
              "1366    calculateCaloriesWithCache totalCalories=131208  \n",
              "1367       calculateAltitudeWithCache totalAltitude=240  \n",
              "\n",
              "[1368 rows x 5 columns]"
            ],
            "text/html": [
              "\n",
              "  <div id=\"df-7ab33bd2-dd35-4ec2-bcab-189f9fe3d0eb\" class=\"colab-df-container\">\n",
              "    <div>\n",
              "<style scoped>\n",
              "    .dataframe tbody tr th:only-of-type {\n",
              "        vertical-align: middle;\n",
              "    }\n",
              "\n",
              "    .dataframe tbody tr th {\n",
              "        vertical-align: top;\n",
              "    }\n",
              "\n",
              "    .dataframe thead th {\n",
              "        text-align: right;\n",
              "    }\n",
              "</style>\n",
              "<table border=\"1\" class=\"dataframe\">\n",
              "  <thead>\n",
              "    <tr style=\"text-align: right;\">\n",
              "      <th></th>\n",
              "      <th>id</th>\n",
              "      <th>TimeStamp</th>\n",
              "      <th>Component</th>\n",
              "      <th>Pid</th>\n",
              "      <th>Content</th>\n",
              "    </tr>\n",
              "  </thead>\n",
              "  <tbody>\n",
              "    <tr>\n",
              "      <th>0</th>\n",
              "      <td>1</td>\n",
              "      <td>20171223-22:15:29:606</td>\n",
              "      <td>Step_LSC</td>\n",
              "      <td>30002312</td>\n",
              "      <td>onStandStepChanged 3579</td>\n",
              "    </tr>\n",
              "    <tr>\n",
              "      <th>1</th>\n",
              "      <td>2</td>\n",
              "      <td>20171223-22:15:29:615</td>\n",
              "      <td>Step_LSC</td>\n",
              "      <td>30002312</td>\n",
              "      <td>onExtend:1514038530000 14 0 4</td>\n",
              "    </tr>\n",
              "    <tr>\n",
              "      <th>2</th>\n",
              "      <td>3</td>\n",
              "      <td>20171223-22:15:29:633</td>\n",
              "      <td>Step_StandReportReceiver</td>\n",
              "      <td>30002312</td>\n",
              "      <td>onReceive action: android.intent.action.SCREEN_ON</td>\n",
              "    </tr>\n",
              "    <tr>\n",
              "      <th>3</th>\n",
              "      <td>4</td>\n",
              "      <td>20171223-22:15:29:635</td>\n",
              "      <td>Step_LSC</td>\n",
              "      <td>30002312</td>\n",
              "      <td>processHandleBroadcastAction action:android.in...</td>\n",
              "    </tr>\n",
              "    <tr>\n",
              "      <th>4</th>\n",
              "      <td>5</td>\n",
              "      <td>20171223-22:15:29:635</td>\n",
              "      <td>Step_StandStepCounter</td>\n",
              "      <td>30002312</td>\n",
              "      <td>flush sensor data</td>\n",
              "    </tr>\n",
              "    <tr>\n",
              "      <th>...</th>\n",
              "      <td>...</td>\n",
              "      <td>...</td>\n",
              "      <td>...</td>\n",
              "      <td>...</td>\n",
              "      <td>...</td>\n",
              "    </tr>\n",
              "    <tr>\n",
              "      <th>1363</th>\n",
              "      <td>1364</td>\n",
              "      <td>20171223-23:57:42:147</td>\n",
              "      <td>Step_LSC</td>\n",
              "      <td>30002312</td>\n",
              "      <td>onExtend:1514044662000 0 0 0</td>\n",
              "    </tr>\n",
              "    <tr>\n",
              "      <th>1364</th>\n",
              "      <td>1365</td>\n",
              "      <td>20171223-23:57:42:443</td>\n",
              "      <td>Step_SPUtils</td>\n",
              "      <td>30002312</td>\n",
              "      <td>getTodayTotalDetailSteps = 1514044560000##721...</td>\n",
              "    </tr>\n",
              "    <tr>\n",
              "      <th>1365</th>\n",
              "      <td>1366</td>\n",
              "      <td>20171223-23:57:42:444</td>\n",
              "      <td>Step_SPUtils</td>\n",
              "      <td>30002312</td>\n",
              "      <td>setTodayTotalDetailSteps=1514044560000##7214##...</td>\n",
              "    </tr>\n",
              "    <tr>\n",
              "      <th>1366</th>\n",
              "      <td>1367</td>\n",
              "      <td>20171223-23:57:42:464</td>\n",
              "      <td>Step_ExtSDM</td>\n",
              "      <td>30002312</td>\n",
              "      <td>calculateCaloriesWithCache totalCalories=131208</td>\n",
              "    </tr>\n",
              "    <tr>\n",
              "      <th>1367</th>\n",
              "      <td>1368</td>\n",
              "      <td>20171223-23:57:42:470</td>\n",
              "      <td>Step_ExtSDM</td>\n",
              "      <td>30002312</td>\n",
              "      <td>calculateAltitudeWithCache totalAltitude=240</td>\n",
              "    </tr>\n",
              "  </tbody>\n",
              "</table>\n",
              "<p>1368 rows × 5 columns</p>\n",
              "</div>\n",
              "    <div class=\"colab-df-buttons\">\n",
              "\n",
              "  <div class=\"colab-df-container\">\n",
              "    <button class=\"colab-df-convert\" onclick=\"convertToInteractive('df-7ab33bd2-dd35-4ec2-bcab-189f9fe3d0eb')\"\n",
              "            title=\"Convert this dataframe to an interactive table.\"\n",
              "            style=\"display:none;\">\n",
              "\n",
              "  <svg xmlns=\"http://www.w3.org/2000/svg\" height=\"24px\" viewBox=\"0 -960 960 960\">\n",
              "    <path d=\"M120-120v-720h720v720H120Zm60-500h600v-160H180v160Zm220 220h160v-160H400v160Zm0 220h160v-160H400v160ZM180-400h160v-160H180v160Zm440 0h160v-160H620v160ZM180-180h160v-160H180v160Zm440 0h160v-160H620v160Z\"/>\n",
              "  </svg>\n",
              "    </button>\n",
              "\n",
              "  <style>\n",
              "    .colab-df-container {\n",
              "      display:flex;\n",
              "      gap: 12px;\n",
              "    }\n",
              "\n",
              "    .colab-df-convert {\n",
              "      background-color: #E8F0FE;\n",
              "      border: none;\n",
              "      border-radius: 50%;\n",
              "      cursor: pointer;\n",
              "      display: none;\n",
              "      fill: #1967D2;\n",
              "      height: 32px;\n",
              "      padding: 0 0 0 0;\n",
              "      width: 32px;\n",
              "    }\n",
              "\n",
              "    .colab-df-convert:hover {\n",
              "      background-color: #E2EBFA;\n",
              "      box-shadow: 0px 1px 2px rgba(60, 64, 67, 0.3), 0px 1px 3px 1px rgba(60, 64, 67, 0.15);\n",
              "      fill: #174EA6;\n",
              "    }\n",
              "\n",
              "    .colab-df-buttons div {\n",
              "      margin-bottom: 4px;\n",
              "    }\n",
              "\n",
              "    [theme=dark] .colab-df-convert {\n",
              "      background-color: #3B4455;\n",
              "      fill: #D2E3FC;\n",
              "    }\n",
              "\n",
              "    [theme=dark] .colab-df-convert:hover {\n",
              "      background-color: #434B5C;\n",
              "      box-shadow: 0px 1px 3px 1px rgba(0, 0, 0, 0.15);\n",
              "      filter: drop-shadow(0px 1px 2px rgba(0, 0, 0, 0.3));\n",
              "      fill: #FFFFFF;\n",
              "    }\n",
              "  </style>\n",
              "\n",
              "    <script>\n",
              "      const buttonEl =\n",
              "        document.querySelector('#df-7ab33bd2-dd35-4ec2-bcab-189f9fe3d0eb button.colab-df-convert');\n",
              "      buttonEl.style.display =\n",
              "        google.colab.kernel.accessAllowed ? 'block' : 'none';\n",
              "\n",
              "      async function convertToInteractive(key) {\n",
              "        const element = document.querySelector('#df-7ab33bd2-dd35-4ec2-bcab-189f9fe3d0eb');\n",
              "        const dataTable =\n",
              "          await google.colab.kernel.invokeFunction('convertToInteractive',\n",
              "                                                    [key], {});\n",
              "        if (!dataTable) return;\n",
              "\n",
              "        const docLinkHtml = 'Like what you see? Visit the ' +\n",
              "          '<a target=\"_blank\" href=https://colab.research.google.com/notebooks/data_table.ipynb>data table notebook</a>'\n",
              "          + ' to learn more about interactive tables.';\n",
              "        element.innerHTML = '';\n",
              "        dataTable['output_type'] = 'display_data';\n",
              "        await google.colab.output.renderOutput(dataTable, element);\n",
              "        const docLink = document.createElement('div');\n",
              "        docLink.innerHTML = docLinkHtml;\n",
              "        element.appendChild(docLink);\n",
              "      }\n",
              "    </script>\n",
              "  </div>\n",
              "\n",
              "\n",
              "<div id=\"df-ba734068-4cd5-4142-8b02-f6db899fd7db\">\n",
              "  <button class=\"colab-df-quickchart\" onclick=\"quickchart('df-ba734068-4cd5-4142-8b02-f6db899fd7db')\"\n",
              "            title=\"Suggest charts\"\n",
              "            style=\"display:none;\">\n",
              "\n",
              "<svg xmlns=\"http://www.w3.org/2000/svg\" height=\"24px\"viewBox=\"0 0 24 24\"\n",
              "     width=\"24px\">\n",
              "    <g>\n",
              "        <path d=\"M19 3H5c-1.1 0-2 .9-2 2v14c0 1.1.9 2 2 2h14c1.1 0 2-.9 2-2V5c0-1.1-.9-2-2-2zM9 17H7v-7h2v7zm4 0h-2V7h2v10zm4 0h-2v-4h2v4z\"/>\n",
              "    </g>\n",
              "</svg>\n",
              "  </button>\n",
              "\n",
              "<style>\n",
              "  .colab-df-quickchart {\n",
              "      --bg-color: #E8F0FE;\n",
              "      --fill-color: #1967D2;\n",
              "      --hover-bg-color: #E2EBFA;\n",
              "      --hover-fill-color: #174EA6;\n",
              "      --disabled-fill-color: #AAA;\n",
              "      --disabled-bg-color: #DDD;\n",
              "  }\n",
              "\n",
              "  [theme=dark] .colab-df-quickchart {\n",
              "      --bg-color: #3B4455;\n",
              "      --fill-color: #D2E3FC;\n",
              "      --hover-bg-color: #434B5C;\n",
              "      --hover-fill-color: #FFFFFF;\n",
              "      --disabled-bg-color: #3B4455;\n",
              "      --disabled-fill-color: #666;\n",
              "  }\n",
              "\n",
              "  .colab-df-quickchart {\n",
              "    background-color: var(--bg-color);\n",
              "    border: none;\n",
              "    border-radius: 50%;\n",
              "    cursor: pointer;\n",
              "    display: none;\n",
              "    fill: var(--fill-color);\n",
              "    height: 32px;\n",
              "    padding: 0;\n",
              "    width: 32px;\n",
              "  }\n",
              "\n",
              "  .colab-df-quickchart:hover {\n",
              "    background-color: var(--hover-bg-color);\n",
              "    box-shadow: 0 1px 2px rgba(60, 64, 67, 0.3), 0 1px 3px 1px rgba(60, 64, 67, 0.15);\n",
              "    fill: var(--button-hover-fill-color);\n",
              "  }\n",
              "\n",
              "  .colab-df-quickchart-complete:disabled,\n",
              "  .colab-df-quickchart-complete:disabled:hover {\n",
              "    background-color: var(--disabled-bg-color);\n",
              "    fill: var(--disabled-fill-color);\n",
              "    box-shadow: none;\n",
              "  }\n",
              "\n",
              "  .colab-df-spinner {\n",
              "    border: 2px solid var(--fill-color);\n",
              "    border-color: transparent;\n",
              "    border-bottom-color: var(--fill-color);\n",
              "    animation:\n",
              "      spin 1s steps(1) infinite;\n",
              "  }\n",
              "\n",
              "  @keyframes spin {\n",
              "    0% {\n",
              "      border-color: transparent;\n",
              "      border-bottom-color: var(--fill-color);\n",
              "      border-left-color: var(--fill-color);\n",
              "    }\n",
              "    20% {\n",
              "      border-color: transparent;\n",
              "      border-left-color: var(--fill-color);\n",
              "      border-top-color: var(--fill-color);\n",
              "    }\n",
              "    30% {\n",
              "      border-color: transparent;\n",
              "      border-left-color: var(--fill-color);\n",
              "      border-top-color: var(--fill-color);\n",
              "      border-right-color: var(--fill-color);\n",
              "    }\n",
              "    40% {\n",
              "      border-color: transparent;\n",
              "      border-right-color: var(--fill-color);\n",
              "      border-top-color: var(--fill-color);\n",
              "    }\n",
              "    60% {\n",
              "      border-color: transparent;\n",
              "      border-right-color: var(--fill-color);\n",
              "    }\n",
              "    80% {\n",
              "      border-color: transparent;\n",
              "      border-right-color: var(--fill-color);\n",
              "      border-bottom-color: var(--fill-color);\n",
              "    }\n",
              "    90% {\n",
              "      border-color: transparent;\n",
              "      border-bottom-color: var(--fill-color);\n",
              "    }\n",
              "  }\n",
              "</style>\n",
              "\n",
              "  <script>\n",
              "    async function quickchart(key) {\n",
              "      const quickchartButtonEl =\n",
              "        document.querySelector('#' + key + ' button');\n",
              "      quickchartButtonEl.disabled = true;  // To prevent multiple clicks.\n",
              "      quickchartButtonEl.classList.add('colab-df-spinner');\n",
              "      try {\n",
              "        const charts = await google.colab.kernel.invokeFunction(\n",
              "            'suggestCharts', [key], {});\n",
              "      } catch (error) {\n",
              "        console.error('Error during call to suggestCharts:', error);\n",
              "      }\n",
              "      quickchartButtonEl.classList.remove('colab-df-spinner');\n",
              "      quickchartButtonEl.classList.add('colab-df-quickchart-complete');\n",
              "    }\n",
              "    (() => {\n",
              "      let quickchartButtonEl =\n",
              "        document.querySelector('#df-ba734068-4cd5-4142-8b02-f6db899fd7db button');\n",
              "      quickchartButtonEl.style.display =\n",
              "        google.colab.kernel.accessAllowed ? 'block' : 'none';\n",
              "    })();\n",
              "  </script>\n",
              "</div>\n",
              "    </div>\n",
              "  </div>\n"
            ],
            "application/vnd.google.colaboratory.intrinsic+json": {
              "type": "dataframe",
              "variable_name": "log_df",
              "summary": "{\n  \"name\": \"log_df\",\n  \"rows\": 1368,\n  \"fields\": [\n    {\n      \"column\": \"id\",\n      \"properties\": {\n        \"dtype\": \"number\",\n        \"std\": 395,\n        \"min\": 1,\n        \"max\": 1368,\n        \"num_unique_values\": 1368,\n        \"samples\": [\n          428,\n          1088,\n          669\n        ],\n        \"semantic_type\": \"\",\n        \"description\": \"\"\n      }\n    },\n    {\n      \"column\": \"TimeStamp\",\n      \"properties\": {\n        \"dtype\": \"string\",\n        \"num_unique_values\": 1171,\n        \"samples\": [\n          \"20171223-22:24:22:215\",\n          \"20171223-22:15:52:160\",\n          \"20171223-22:31:59:956\"\n        ],\n        \"semantic_type\": \"\",\n        \"description\": \"\"\n      }\n    },\n    {\n      \"column\": \"Component\",\n      \"properties\": {\n        \"dtype\": \"category\",\n        \"num_unique_values\": 15,\n        \"samples\": [\n          \"HiH_DataStatManager\",\n          \"HiH_HiSyncControl\",\n          \"Step_LSC\"\n        ],\n        \"semantic_type\": \"\",\n        \"description\": \"\"\n      }\n    },\n    {\n      \"column\": \"Pid\",\n      \"properties\": {\n        \"dtype\": \"number\",\n        \"std\": 0,\n        \"min\": 30002312,\n        \"max\": 30002312,\n        \"num_unique_values\": 1,\n        \"samples\": [\n          30002312\n        ],\n        \"semantic_type\": \"\",\n        \"description\": \"\"\n      }\n    },\n    {\n      \"column\": \"Content\",\n      \"properties\": {\n        \"dtype\": \"string\",\n        \"num_unique_values\": 889,\n        \"samples\": [\n          \"onStandStepChanged 3640\"\n        ],\n        \"semantic_type\": \"\",\n        \"description\": \"\"\n      }\n    }\n  ]\n}"
            }
          },
          "metadata": {},
          "execution_count": 40
        }
      ]
    },
    {
      "cell_type": "markdown",
      "source": [
        "Проведем нормализацию логов"
      ],
      "metadata": {
        "id": "jAzyoT_1gbPN"
      }
    },
    {
      "cell_type": "code",
      "source": [
        "def normalise(timestamp):\n",
        "    from datetime import datetime\n",
        "    return datetime.strptime(timestamp, '%Y%m%d-%H:%M:%S:%f')\n",
        "\n",
        "log_df['TimeStamp'] = log_df['TimeStamp'].apply(normalise)\n",
        "log_levels = log_df['Component'].value_counts()\n",
        "print(\"Нормализация по модулям:\", log_levels, '\\n')\n",
        "\n",
        "log_df['hour'] = log_df['TimeStamp'].dt.hour\n",
        "event_frequency = log_df.groupby('hour').size()\n",
        "print(\"Нормализация по частоте:\", event_frequency)"
      ],
      "metadata": {
        "colab": {
          "base_uri": "https://localhost:8080/"
        },
        "id": "ERvZZGzmga5O",
        "outputId": "64d46544-8029-425a-fb39-36e22546dbbc"
      },
      "execution_count": 41,
      "outputs": [
        {
          "output_type": "stream",
          "name": "stdout",
          "text": [
            "Нормализация по модулям: Component\n",
            "Step_LSC                       428\n",
            "Step_SPUtils                   348\n",
            "Step_ExtSDM                    346\n",
            "Step_StandReportReceiver       130\n",
            "HiH_HiSyncControl               34\n",
            "HiH_DataStatManager             17\n",
            "Step_StandStepCounter           13\n",
            "HiH_HiHealthDataInsertStore     11\n",
            "HiH_HiHealthBinder               9\n",
            "Step_FlushableStepDataCache      8\n",
            "HiH_HiAppUtil                    8\n",
            "HiH_                             8\n",
            "HiH_HiBroadcastUtil              4\n",
            "HiH_ListenerManager              2\n",
            "HiH_HiSyncUtil                   2\n",
            "Name: count, dtype: int64 \n",
            "\n",
            "Нормализация по частоте: hour\n",
            "22    983\n",
            "23    385\n",
            "dtype: int64\n"
          ]
        }
      ]
    },
    {
      "cell_type": "markdown",
      "source": [
        "Проведём статистический анализ данных по уровню логирования и частоте  событий, визуализируем результаты."
      ],
      "metadata": {
        "id": "lRrtlWCUmb5Q"
      }
    },
    {
      "cell_type": "code",
      "source": [
        "import matplotlib.pyplot as plt\n",
        "components_distrib = log_df['Component'].value_counts()\n",
        "\n",
        "components_distrib.plot(kind='bar')\n",
        "plt.xlabel('Модуль')\n",
        "plt.ylabel('Число')\n",
        "plt.show()\n",
        "\n",
        "event_frequency.plot(kind='line')\n",
        "plt.title('Изменение частоты событий между 22 часом и 23 часом')\n",
        "plt.xlabel('Час')\n",
        "plt.ylabel('Количество событий')\n",
        "plt.show()"
      ],
      "metadata": {
        "colab": {
          "base_uri": "https://localhost:8080/",
          "height": 1000
        },
        "id": "07-h7viJmcK9",
        "outputId": "e21ba550-6e95-44d8-beec-959bdd226d7b"
      },
      "execution_count": 44,
      "outputs": [
        {
          "output_type": "display_data",
          "data": {
            "text/plain": [
              "<Figure size 640x480 with 1 Axes>"
            ],
            "image/png": "[encoded data removed]"
          },
          "metadata": {}
        },
        {
          "output_type": "display_data",
          "data": {
            "text/plain": [
              "<Figure size 640x480 with 1 Axes>"
            ],
            "image/png": "[encoded data removed]"
          },
          "metadata": {}
        }
      ]
    }
  ]
}